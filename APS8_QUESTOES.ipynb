{
 "cells": [
  {
   "cell_type": "markdown",
   "metadata": {},
   "source": [
    "# APS 8"
   ]
  },
  {
   "cell_type": "markdown",
   "metadata": {},
   "source": [
    "Entrega: 28/11 ao final do atendimento (17:15)"
   ]
  },
  {
   "cell_type": "markdown",
   "metadata": {},
   "source": [
    "## Questão 1"
   ]
  },
  {
   "cell_type": "markdown",
   "metadata": {},
   "source": [
    "Assuma que $X$ seja uma variável aleatória contínua que descreve o preço de um multímetro digital em uma loja brasileira qualquer. Ainda, assuma que o preço médio seja igual a $R\\$ 45,00$ e o desvio padrão, igual a $R\\$45,00$ e o desvio padrão, igual a $R\\$ 25,00$.\n",
    "\n",
    "Em todos os itens a seguir, deixe claro como foi construído o novo preço em função de $X$.\n",
    "\n",
    "Deixe todas as contas claramente indicadas.\n",
    "\n",
    "a) Se todas as lojas brasileiras que vendem multímetro resolvessem acrescentar 15 reais no preço de cada um dos seus respectivos multímetros. Nesse caso, qual o novo preço médio do multímetro e respectivo desvio padrão?\n",
    "\n",
    "b) Se todas as lojas brasileiras que vendem multímetro resolvessem aumentar o preço de cada um dos seus respectivos multímetros em $150\\%$. Nesse caso, qual o novo preço médio do multímetro e respectivo desvio padrão?\n",
    "\n",
    "c) Se você precisa comprar dez multímetros e deseja comprá-los todos iguais e na mesma loja. Nesse caso, qual o gasto total esperado e respectivo desvio padrão?"
   ]
  },
  {
   "cell_type": "markdown",
   "metadata": {},
   "source": [
    "a) Novo preço médio seria E(X+d) = 45 + 15 => 60 reais, e o desvio padrão não se altera. "
   ]
  },
  {
   "cell_type": "markdown",
   "metadata": {},
   "source": [
    "b) Novo preço médio seria E(dX) = 45 x 2.5 => 112,5 reais, e o desvio padrão DP(cX) = 25 x 2,5 => 62,5 reais. "
   ]
  },
  {
   "cell_type": "markdown",
   "metadata": {},
   "source": [
    "c) O gasto total esperado é 450 reais e o desvio padrão 250 reais."
   ]
  },
  {
   "cell_type": "markdown",
   "metadata": {},
   "source": [
    "## Questão 2"
   ]
  },
  {
   "cell_type": "markdown",
   "metadata": {},
   "source": [
    "\t\n",
    "\t\n",
    "Assuma que, na disciplina Ciência dos dados, a nota final da disciplina seja função da nota média das provas $X$ e da nota média dos projetos $Y$. Assuma ainda que ambas as notas tem mesmo peso na construção da nota final na disciplina.\n",
    "\n",
    "\n",
    "Considerando que a nota média dos alunos nas provas segue uma normal com média 4 e desvio padrão igual a 1,5, ou seja $ X \\sim N(4 ; 2,25)$ . E que a nota média dos alunos nos projetos segue uma normal com média 7 e desvio padrão igual a 1, ou seja, $Y\\sim N(7 ; 1)$.\n",
    "\n",
    "\n",
    "Na prática, é razoável acreditar que haja uma associação positiva entre essas notas. Aqui, considere que a covariância entre essas notas médias é igual a $0,675$ .\n",
    "\n",
    "Em todos os itens a seguir, deixe todas as contas claramente indicadas. \n",
    "\n",
    "\n",
    "a) Calcule a nota média final e respectivo desvio padrão.\n",
    "   \n",
    " b) Considere que a nota final na disciplina Ciência dos dados segue uma distribuição com média e variância obtidas no item anterior.      Calcule a probabilidade de um aluno ser aprovado na disciplina.\n"
   ]
  },
  {
   "cell_type": "markdown",
   "metadata": {},
   "source": [
    "a) A nota média final é E(aX+bY) = aE(X) + bE(Y) => 5,5 e o desvio padrão é Var(aX+bY) = a^2Var(X) + b^2Var(Y) + 2abCov(X,Y) => 1,15 DP = 1,07, com a e b = 0,5 \n",
    "\n",
    "b)"
   ]
  },
  {
   "cell_type": "code",
   "execution_count": 88,
   "metadata": {
    "collapsed": false
   },
   "outputs": [
    {
     "data": {
      "text/plain": [
       "0.67985369470424972"
      ]
     },
     "execution_count": 88,
     "metadata": {},
     "output_type": "execute_result"
    }
   ],
   "source": [
    "d =  stats.norm.cdf(5,loc = 5.5, scale = 1.07)\n",
    "1-d"
   ]
  },
  {
   "cell_type": "markdown",
   "metadata": {},
   "source": [
    "### Dataset para as questões de programação"
   ]
  },
  {
   "cell_type": "markdown",
   "metadata": {},
   "source": [
    "Vamos trabalhar com o problema *House Sales in King County*, do Kaggle\n",
    "[https://www.kaggle.com/harlfoxem/housesalesprediction](https://www.kaggle.com/harlfoxem/housesalesprediction)"
   ]
  },
  {
   "cell_type": "code",
   "execution_count": 82,
   "metadata": {
    "collapsed": false
   },
   "outputs": [],
   "source": [
    "import pandas as pd\n",
    "import numpy as np\n",
    "import matplotlib.pyplot as plt\n",
    "import statsmodels.api as sm\n",
    "from scipy import stats\n",
    "import math\n",
    "\n",
    "%matplotlib inline"
   ]
  },
  {
   "cell_type": "code",
   "execution_count": 83,
   "metadata": {
    "collapsed": true
   },
   "outputs": [],
   "source": [
    "houses = pd.read_csv(\"casas.csv\")"
   ]
  },
  {
   "cell_type": "code",
   "execution_count": 84,
   "metadata": {
    "collapsed": false
   },
   "outputs": [
    {
     "data": {
      "text/html": [
       "<div>\n",
       "<style>\n",
       "    .dataframe thead tr:only-child th {\n",
       "        text-align: right;\n",
       "    }\n",
       "\n",
       "    .dataframe thead th {\n",
       "        text-align: left;\n",
       "    }\n",
       "\n",
       "    .dataframe tbody tr th {\n",
       "        vertical-align: top;\n",
       "    }\n",
       "</style>\n",
       "<table border=\"1\" class=\"dataframe\">\n",
       "  <thead>\n",
       "    <tr style=\"text-align: right;\">\n",
       "      <th></th>\n",
       "      <th>price</th>\n",
       "      <th>bedrooms</th>\n",
       "      <th>bathrooms</th>\n",
       "      <th>sqft_living</th>\n",
       "      <th>sqft_lot</th>\n",
       "      <th>floors</th>\n",
       "      <th>sqft_basement</th>\n",
       "      <th>grade</th>\n",
       "    </tr>\n",
       "  </thead>\n",
       "  <tbody>\n",
       "    <tr>\n",
       "      <th>0</th>\n",
       "      <td>540000.0</td>\n",
       "      <td>4</td>\n",
       "      <td>2.50</td>\n",
       "      <td>2600</td>\n",
       "      <td>9935</td>\n",
       "      <td>2.0</td>\n",
       "      <td>0</td>\n",
       "      <td>8</td>\n",
       "    </tr>\n",
       "    <tr>\n",
       "      <th>1</th>\n",
       "      <td>815000.0</td>\n",
       "      <td>3</td>\n",
       "      <td>3.75</td>\n",
       "      <td>2780</td>\n",
       "      <td>5002</td>\n",
       "      <td>2.0</td>\n",
       "      <td>0</td>\n",
       "      <td>10</td>\n",
       "    </tr>\n",
       "    <tr>\n",
       "      <th>2</th>\n",
       "      <td>279000.0</td>\n",
       "      <td>3</td>\n",
       "      <td>2.25</td>\n",
       "      <td>2070</td>\n",
       "      <td>7800</td>\n",
       "      <td>1.0</td>\n",
       "      <td>900</td>\n",
       "      <td>7</td>\n",
       "    </tr>\n",
       "    <tr>\n",
       "      <th>3</th>\n",
       "      <td>360000.0</td>\n",
       "      <td>2</td>\n",
       "      <td>2.50</td>\n",
       "      <td>1233</td>\n",
       "      <td>1244</td>\n",
       "      <td>2.0</td>\n",
       "      <td>270</td>\n",
       "      <td>7</td>\n",
       "    </tr>\n",
       "    <tr>\n",
       "      <th>4</th>\n",
       "      <td>309000.0</td>\n",
       "      <td>3</td>\n",
       "      <td>2.50</td>\n",
       "      <td>1990</td>\n",
       "      <td>3614</td>\n",
       "      <td>2.0</td>\n",
       "      <td>0</td>\n",
       "      <td>7</td>\n",
       "    </tr>\n",
       "  </tbody>\n",
       "</table>\n",
       "</div>"
      ],
      "text/plain": [
       "      price  bedrooms  bathrooms  sqft_living  sqft_lot  floors  \\\n",
       "0  540000.0         4       2.50         2600      9935     2.0   \n",
       "1  815000.0         3       3.75         2780      5002     2.0   \n",
       "2  279000.0         3       2.25         2070      7800     1.0   \n",
       "3  360000.0         2       2.50         1233      1244     2.0   \n",
       "4  309000.0         3       2.50         1990      3614     2.0   \n",
       "\n",
       "   sqft_basement  grade  \n",
       "0              0      8  \n",
       "1              0     10  \n",
       "2            900      7  \n",
       "3            270      7  \n",
       "4              0      7  "
      ]
     },
     "execution_count": 84,
     "metadata": {},
     "output_type": "execute_result"
    }
   ],
   "source": [
    "houses.head()"
   ]
  },
  {
   "cell_type": "markdown",
   "metadata": {},
   "source": [
    "## Q3\n",
    "\n",
    "O dataset fornecido é uma amostra extraída de um dataset maior. A amostra pode ter vindo de uma população com média de `sqft_lot` de 8250? \n",
    "\n",
    "Passos:\n",
    "\n",
    "**a)** Verifique que `sqft_lot` **não** é normal.\n",
    "\n",
    "Dica: na *APS 7* foi feito um teste de normalidade. Repita o mesmo processo\n",
    "\n",
    "**b)**  Se `sqft_lot` fosse normal, que tipo de teste poderíamos ter usado?\n",
    "\n",
    "**c)** Saberíamos $\\mu$ para montar o t? Saberíamos $\\sigma$?\n",
    "\n",
    "\n",
    "**Bootstrap**:\n",
    "\n",
    "**d)** Monte um intervalo percentil boostrap de $95\\%$.\n",
    "\n",
    "**e)** Informe os valores inferiores e superiores\n",
    "\n",
    "**f)** Conclua o teste\n"
   ]
  },
  {
   "cell_type": "code",
   "execution_count": 87,
   "metadata": {
    "collapsed": false
   },
   "outputs": [
    {
     "data": {
      "image/png": "[encoded data removed]",
      "text/plain": [
       "<matplotlib.figure.Figure at 0x16e8e797668>"
      ]
     },
     "metadata": {},
     "output_type": "display_data"
    }
   ],
   "source": [
    "#a)\n",
    "a = stats.probplot(houses.sqft_lot, dist='norm', plot=plt)"
   ]
  },
  {
   "cell_type": "markdown",
   "metadata": {},
   "source": [
    "b) c)\n",
    "Não é normal pois, a organização dos dados no QQplot não segue uma normal, que é mais linear. poderiamos ter usado o teste t student, nós poderiamos saber a média da amostra mas não o desvio-padrão."
   ]
  },
  {
   "cell_type": "markdown",
   "metadata": {},
   "source": [
    "Bootstrap-\n",
    "a)"
   ]
  },
  {
   "cell_type": "code",
   "execution_count": 89,
   "metadata": {
    "collapsed": false
   },
   "outputs": [
    {
     "name": "stdout",
     "output_type": "stream",
     "text": [
      "Média:  10292.538461538461\n",
      "Desvio padrão amostral:  16122.868507454057\n",
      "Limite inferior - média: 6916.90153846\n",
      "Limite superior - média: 14559.7661538\n",
      "Limite inferior - dp: 6079.34774844\n",
      "Limite superior - dp: 23630.1385624\n"
     ]
    }
   ],
   "source": [
    "xbarra = np.mean(houses.sqft_lot)\n",
    "dp = np.std(houses.sqft_lot,ddof=1)\n",
    "\n",
    "print(\"Média: \", xbarra)\n",
    "print(\"Desvio padrão amostral: \", dp)\n",
    "\n",
    "n = houses.sqft_lot.count()\n",
    "\n",
    "xbarra_Boot = []\n",
    "dp_Boot = []\n",
    "B = 10000\n",
    "for i in range(B):\n",
    "    # Gera uma reamostra dos dados _com_ reposição\n",
    "    amostra = np.random.choice(houses.sqft_lot, size=n, replace=True)\n",
    "    xbarraB = np.mean(amostra)\n",
    "    dpB = np.std(amostra, ddof=1)\n",
    "    xbarra_Boot.append(xbarraB)\n",
    "    dp_Boot.append(dpB)\n",
    "    \n",
    "Lim_inf = np.percentile(xbarra_Boot, 2.5) #2.5% menores e 2.5% maiores\n",
    "Lim_sup = np.percentile(xbarra_Boot, 97.5)\n",
    "print('Limite inferior - média:', Lim_inf)\n",
    "print('Limite superior - média:', Lim_sup)\n",
    "\n",
    "Lim_inf = np.percentile(dp_Boot, 2.5)\n",
    "Lim_sup = np.percentile(dp_Boot, 97.5)\n",
    "print('Limite inferior - dp:', Lim_inf)\n",
    "print('Limite superior - dp:', Lim_sup)\n",
    "\n",
    "#A média de 8250 está dentro dos percentis de média, com confiança de 95%. Sendo assim, é possível que tal amostra provém de uma população com esta média"
   ]
  },
  {
   "cell_type": "markdown",
   "metadata": {},
   "source": []
  },
  {
   "cell_type": "markdown",
   "metadata": {},
   "source": [
    "## Q4\n",
    "\n",
    "Faça uma regressão que usa `sqft_living` como variável explicativa  e `price` como resultado: "
   ]
  },
  {
   "cell_type": "markdown",
   "metadata": {},
   "source": [
    "**a).** De acordo com a notação que usamos em aula, quem é $\\hat{\\beta_0}$ e quem é $\\hat{\\beta_1}$ ?"
   ]
  },
  {
   "cell_type": "markdown",
   "metadata": {},
   "source": [
    "**b).** Interprete o $R^2$ , os valores $P > |t|$ e também *Prob (F-statistic)*."
   ]
  },
  {
   "cell_type": "markdown",
   "metadata": {},
   "source": [
    "**c).** Escreva a equação que expressa `price` em função de `sqft_living`.\n",
    "\n",
    "**d).** Faça um gráfico de dispersão de `price` em função de `sqft_living`, plote a equação que encontrou no item anterior no mesmo gráfico\n"
   ]
  },
  {
   "cell_type": "code",
   "execution_count": 90,
   "metadata": {
    "collapsed": false
   },
   "outputs": [
    {
     "data": {
      "text/html": [
       "<table class=\"simpletable\">\n",
       "<caption>OLS Regression Results</caption>\n",
       "<tr>\n",
       "  <th>Dep. Variable:</th>          <td>price</td>      <th>  R-squared:         </th> <td>   0.472</td>\n",
       "</tr>\n",
       "<tr>\n",
       "  <th>Model:</th>                   <td>OLS</td>       <th>  Adj. R-squared:    </th> <td>   0.463</td>\n",
       "</tr>\n",
       "<tr>\n",
       "  <th>Method:</th>             <td>Least Squares</td>  <th>  F-statistic:       </th> <td>   56.21</td>\n",
       "</tr>\n",
       "<tr>\n",
       "  <th>Date:</th>             <td>Tue, 28 Nov 2017</td> <th>  Prob (F-statistic):</th> <td>2.70e-10</td>\n",
       "</tr>\n",
       "<tr>\n",
       "  <th>Time:</th>                 <td>16:13:06</td>     <th>  Log-Likelihood:    </th> <td> -892.24</td>\n",
       "</tr>\n",
       "<tr>\n",
       "  <th>No. Observations:</th>      <td>    65</td>      <th>  AIC:               </th> <td>   1788.</td>\n",
       "</tr>\n",
       "<tr>\n",
       "  <th>Df Residuals:</th>          <td>    63</td>      <th>  BIC:               </th> <td>   1793.</td>\n",
       "</tr>\n",
       "<tr>\n",
       "  <th>Df Model:</th>              <td>     1</td>      <th>                     </th>     <td> </td>   \n",
       "</tr>\n",
       "<tr>\n",
       "  <th>Covariance Type:</th>      <td>nonrobust</td>    <th>                     </th>     <td> </td>   \n",
       "</tr>\n",
       "</table>\n",
       "<table class=\"simpletable\">\n",
       "<tr>\n",
       "       <td></td>          <th>coef</th>     <th>std err</th>      <th>t</th>      <th>P>|t|</th>  <th>[0.025</th>    <th>0.975]</th>  \n",
       "</tr>\n",
       "<tr>\n",
       "  <th>const</th>       <td> 4.928e+04</td> <td> 7.44e+04</td> <td>    0.662</td> <td> 0.510</td> <td>-9.95e+04</td> <td> 1.98e+05</td>\n",
       "</tr>\n",
       "<tr>\n",
       "  <th>sqft_living</th> <td>  247.0810</td> <td>   32.954</td> <td>    7.498</td> <td> 0.000</td> <td>  181.227</td> <td>  312.935</td>\n",
       "</tr>\n",
       "</table>\n",
       "<table class=\"simpletable\">\n",
       "<tr>\n",
       "  <th>Omnibus:</th>       <td>12.716</td> <th>  Durbin-Watson:     </th> <td>   1.643</td>\n",
       "</tr>\n",
       "<tr>\n",
       "  <th>Prob(Omnibus):</th> <td> 0.002</td> <th>  Jarque-Bera (JB):  </th> <td>  13.432</td>\n",
       "</tr>\n",
       "<tr>\n",
       "  <th>Skew:</th>          <td> 0.973</td> <th>  Prob(JB):          </th> <td> 0.00121</td>\n",
       "</tr>\n",
       "<tr>\n",
       "  <th>Kurtosis:</th>      <td> 4.081</td> <th>  Cond. No.          </th> <td>6.03e+03</td>\n",
       "</tr>\n",
       "</table>"
      ],
      "text/plain": [
       "<class 'statsmodels.iolib.summary.Summary'>\n",
       "\"\"\"\n",
       "                            OLS Regression Results                            \n",
       "==============================================================================\n",
       "Dep. Variable:                  price   R-squared:                       0.472\n",
       "Model:                            OLS   Adj. R-squared:                  0.463\n",
       "Method:                 Least Squares   F-statistic:                     56.21\n",
       "Date:                Tue, 28 Nov 2017   Prob (F-statistic):           2.70e-10\n",
       "Time:                        16:13:06   Log-Likelihood:                -892.24\n",
       "No. Observations:                  65   AIC:                             1788.\n",
       "Df Residuals:                      63   BIC:                             1793.\n",
       "Df Model:                           1                                         \n",
       "Covariance Type:            nonrobust                                         \n",
       "===============================================================================\n",
       "                  coef    std err          t      P>|t|      [0.025      0.975]\n",
       "-------------------------------------------------------------------------------\n",
       "const        4.928e+04   7.44e+04      0.662      0.510   -9.95e+04    1.98e+05\n",
       "sqft_living   247.0810     32.954      7.498      0.000     181.227     312.935\n",
       "==============================================================================\n",
       "Omnibus:                       12.716   Durbin-Watson:                   1.643\n",
       "Prob(Omnibus):                  0.002   Jarque-Bera (JB):               13.432\n",
       "Skew:                           0.973   Prob(JB):                      0.00121\n",
       "Kurtosis:                       4.081   Cond. No.                     6.03e+03\n",
       "==============================================================================\n",
       "\n",
       "Warnings:\n",
       "[1] Standard Errors assume that the covariance matrix of the errors is correctly specified.\n",
       "[2] The condition number is large, 6.03e+03. This might indicate that there are\n",
       "strong multicollinearity or other numerical problems.\n",
       "\"\"\""
      ]
     },
     "execution_count": 90,
     "metadata": {},
     "output_type": "execute_result"
    }
   ],
   "source": [
    "import statsmodels.api as sm\n",
    "\n",
    "Y = houses.price\n",
    "X = houses.sqft_living\n",
    "X = sm.add_constant(X)\n",
    "model = sm.OLS(Y,X)\n",
    "results = model.fit()\n",
    "results.summary()\n"
   ]
  },
  {
   "cell_type": "markdown",
   "metadata": {},
   "source": [
    "\n",
    "Para valor-p muito pequeno, na regressão, para a variável a qual é responsável pela reta ser inclinada (ou não), rejeita-se H0((b1 ou bj) = 0) \n",
    "O valor-p mostra nesse caso, que há inclinação na reta de tendência \n",
    "r2 é a qualidade do ajuste → 0.4 é relativamente bom, cerca de 40% de precisão \n",
    "O teste f indica a relevância de pelo menos uma váriavel influenciar o resultado (eixo y), caso o valor p seja pequeno \n",
    "b0 é o coef const \n",
    "b1 é o coef sqft_living\n",
    "\n",
    "y = 247.0810(x) + 49280"
   ]
  },
  {
   "cell_type": "code",
   "execution_count": 91,
   "metadata": {
    "collapsed": false
   },
   "outputs": [
    {
     "data": {
      "text/plain": [
       "[<matplotlib.lines.Line2D at 0x16e8e9fc550>]"
      ]
     },
     "execution_count": 91,
     "metadata": {},
     "output_type": "execute_result"
    },
    {
     "data": {
      "image/png": "[encoded data removed]",
      "text/plain": [
       "<matplotlib.figure.Figure at 0x16e8f148550>"
      ]
     },
     "metadata": {},
     "output_type": "display_data"
    }
   ],
   "source": [
    "houses.plot.scatter('sqft_living','price', c='r')\n",
    "plt.title('Gráfico de dispersão')\n",
    "plt.plot((500,4500),(170000,1161144),\"b-\")"
   ]
  },
  {
   "cell_type": "code",
   "execution_count": null,
   "metadata": {
    "collapsed": true
   },
   "outputs": [],
   "source": []
  },
  {
   "cell_type": "markdown",
   "metadata": {},
   "source": [
    "## Q5\n",
    "\n",
    "Faça agora uma regressão múltipla que tenta prever `price` (variável explicada) em função das variáveis `sqft_lot`  e `sqft_basement` (explicativa).\n",
    "\n",
    "Dica: inclua as duas colunas dentro de uma variável `X`, o restante não se altera em relação à regressão simples.\n",
    "\n",
    "\n",
    "```python\n",
    "Y = houses['price']\n",
    "X = houses.loc[:, ['sqft_lot', 'sqft_basement']]\n",
    "```\n",
    "\n",
    "Pede-se:\n",
    "\n",
    "**a).** Repita a intepretação dos valores $P > |t|$ e Prob (F-statistic) porém com duas variáveis.\n",
    "\n",
    "O que os valores encontrados implicam para a regressão?\n",
    "\n",
    "\n",
    "**b).** Escreva a função que foi encontrada pela regressão ( `price` em função de  `sqft_lot`  e `sqft_basement`)"
   ]
  },
  {
   "cell_type": "code",
   "execution_count": 92,
   "metadata": {
    "collapsed": false
   },
   "outputs": [
    {
     "data": {
      "text/html": [
       "<table class=\"simpletable\">\n",
       "<caption>OLS Regression Results</caption>\n",
       "<tr>\n",
       "  <th>Dep. Variable:</th>          <td>price</td>      <th>  R-squared:         </th> <td>   0.029</td>\n",
       "</tr>\n",
       "<tr>\n",
       "  <th>Model:</th>                   <td>OLS</td>       <th>  Adj. R-squared:    </th> <td>  -0.003</td>\n",
       "</tr>\n",
       "<tr>\n",
       "  <th>Method:</th>             <td>Least Squares</td>  <th>  F-statistic:       </th> <td>  0.9115</td>\n",
       "</tr>\n",
       "<tr>\n",
       "  <th>Date:</th>             <td>Tue, 28 Nov 2017</td> <th>  Prob (F-statistic):</th>  <td> 0.407</td> \n",
       "</tr>\n",
       "<tr>\n",
       "  <th>Time:</th>                 <td>16:15:09</td>     <th>  Log-Likelihood:    </th> <td> -912.03</td>\n",
       "</tr>\n",
       "<tr>\n",
       "  <th>No. Observations:</th>      <td>    65</td>      <th>  AIC:               </th> <td>   1830.</td>\n",
       "</tr>\n",
       "<tr>\n",
       "  <th>Df Residuals:</th>          <td>    62</td>      <th>  BIC:               </th> <td>   1837.</td>\n",
       "</tr>\n",
       "<tr>\n",
       "  <th>Df Model:</th>              <td>     2</td>      <th>                     </th>     <td> </td>   \n",
       "</tr>\n",
       "<tr>\n",
       "  <th>Covariance Type:</th>      <td>nonrobust</td>    <th>                     </th>     <td> </td>   \n",
       "</tr>\n",
       "</table>\n",
       "<table class=\"simpletable\">\n",
       "<tr>\n",
       "        <td></td>           <th>coef</th>     <th>std err</th>      <th>t</th>      <th>P>|t|</th>  <th>[0.025</th>    <th>0.975]</th>  \n",
       "</tr>\n",
       "<tr>\n",
       "  <th>const</th>         <td> 5.237e+05</td> <td> 5.01e+04</td> <td>   10.462</td> <td> 0.000</td> <td> 4.24e+05</td> <td> 6.24e+05</td>\n",
       "</tr>\n",
       "<tr>\n",
       "  <th>sqft_lot</th>      <td>    2.7668</td> <td>    2.383</td> <td>    1.161</td> <td> 0.250</td> <td>   -1.997</td> <td>    7.531</td>\n",
       "</tr>\n",
       "<tr>\n",
       "  <th>sqft_basement</th> <td>   68.6891</td> <td>  101.802</td> <td>    0.675</td> <td> 0.502</td> <td> -134.810</td> <td>  272.188</td>\n",
       "</tr>\n",
       "</table>\n",
       "<table class=\"simpletable\">\n",
       "<tr>\n",
       "  <th>Omnibus:</th>       <td>24.116</td> <th>  Durbin-Watson:     </th> <td>   1.833</td>\n",
       "</tr>\n",
       "<tr>\n",
       "  <th>Prob(Omnibus):</th> <td> 0.000</td> <th>  Jarque-Bera (JB):  </th> <td>  38.221</td>\n",
       "</tr>\n",
       "<tr>\n",
       "  <th>Skew:</th>          <td> 1.369</td> <th>  Prob(JB):          </th> <td>5.02e-09</td>\n",
       "</tr>\n",
       "<tr>\n",
       "  <th>Kurtosis:</th>      <td> 5.572</td> <th>  Cond. No.          </th> <td>2.50e+04</td>\n",
       "</tr>\n",
       "</table>"
      ],
      "text/plain": [
       "<class 'statsmodels.iolib.summary.Summary'>\n",
       "\"\"\"\n",
       "                            OLS Regression Results                            \n",
       "==============================================================================\n",
       "Dep. Variable:                  price   R-squared:                       0.029\n",
       "Model:                            OLS   Adj. R-squared:                 -0.003\n",
       "Method:                 Least Squares   F-statistic:                    0.9115\n",
       "Date:                Tue, 28 Nov 2017   Prob (F-statistic):              0.407\n",
       "Time:                        16:15:09   Log-Likelihood:                -912.03\n",
       "No. Observations:                  65   AIC:                             1830.\n",
       "Df Residuals:                      62   BIC:                             1837.\n",
       "Df Model:                           2                                         \n",
       "Covariance Type:            nonrobust                                         \n",
       "=================================================================================\n",
       "                    coef    std err          t      P>|t|      [0.025      0.975]\n",
       "---------------------------------------------------------------------------------\n",
       "const          5.237e+05   5.01e+04     10.462      0.000    4.24e+05    6.24e+05\n",
       "sqft_lot          2.7668      2.383      1.161      0.250      -1.997       7.531\n",
       "sqft_basement    68.6891    101.802      0.675      0.502    -134.810     272.188\n",
       "==============================================================================\n",
       "Omnibus:                       24.116   Durbin-Watson:                   1.833\n",
       "Prob(Omnibus):                  0.000   Jarque-Bera (JB):               38.221\n",
       "Skew:                           1.369   Prob(JB):                     5.02e-09\n",
       "Kurtosis:                       5.572   Cond. No.                     2.50e+04\n",
       "==============================================================================\n",
       "\n",
       "Warnings:\n",
       "[1] Standard Errors assume that the covariance matrix of the errors is correctly specified.\n",
       "[2] The condition number is large, 2.5e+04. This might indicate that there are\n",
       "strong multicollinearity or other numerical problems.\n",
       "\"\"\""
      ]
     },
     "execution_count": 92,
     "metadata": {},
     "output_type": "execute_result"
    }
   ],
   "source": [
    "Y = houses.price\n",
    "X = houses.loc[:, ['sqft_lot', 'sqft_basement']]\n",
    "X = sm.add_constant(X)\n",
    "model = sm.OLS(Y,X)\n",
    "results = model.fit()\n",
    "results.summary()"
   ]
  },
  {
   "cell_type": "markdown",
   "metadata": {
    "collapsed": true
   },
   "source": [
    "tobs como ponto critico → x - u/ s/raiz(n) \n",
    "Quando as duas variáveis são colocadas juntas, o plano perde a significância (valor (p > t) na variável de inclinação muito alto) \n",
    "O teste f (0.91) está com valor baixo, mostrando irrelevância das variáveis de entrada para o comportamento da variável resultado\n",
    "\n",
    "y = 2.7668(x1) + 68.6891(x2) + 523700"
   ]
  },
  {
   "cell_type": "code",
   "execution_count": null,
   "metadata": {
    "collapsed": true
   },
   "outputs": [],
   "source": []
  }
 ],
 "metadata": {
  "anaconda-cloud": {},
  "kernelspec": {
   "display_name": "Python [default]",
   "language": "python",
   "name": "python3"
  },
  "language_info": {
   "codemirror_mode": {
    "name": "ipython",
    "version": 3
   },
   "file_extension": ".py",
   "mimetype": "text/x-python",
   "name": "python",
   "nbconvert_exporter": "python",
   "pygments_lexer": "ipython3",
   "version": "3.5.2"
  }
 },
 "nbformat": 4,
 "nbformat_minor": 2
}
