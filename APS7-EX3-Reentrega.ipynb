{
 "cells": [
  {
   "cell_type": "markdown",
   "metadata": {},
   "source": [
    "## APS 7 Questão 3 Hugo Carl"
   ]
  },
  {
   "cell_type": "markdown",
   "metadata": {},
   "source": [
    "a)"
   ]
  },
  {
   "cell_type": "code",
   "execution_count": 2,
   "metadata": {
    "collapsed": true
   },
   "outputs": [],
   "source": [
    "import math\n",
    "import matplotlib.pyplot as plt\n",
    "import pandas as pd\n",
    "import numpy as np\n",
    "from scipy import stats"
   ]
  },
  {
   "cell_type": "code",
   "execution_count": 4,
   "metadata": {
    "collapsed": false
   },
   "outputs": [
    {
     "name": "stdout",
     "output_type": "stream",
     "text": [
      "Média:  176.83777777777777\n",
      "Desvio padrão amostral:  110.95287190067022\n",
      "Limite inferior: 131.551902778\n",
      "Limite superior: 230.417347222\n"
     ]
    }
   ],
   "source": [
    "resistencias = [ 129.26, 204.49, 116.89, 106.4 , 95.3 , 123.35, 92.3 , 300.02, 264.34, 168.27, 80.02,\n",
    "117.96, 117.73, 370.47, 462.59, 92.58, 258.52, 82.59]\n",
    "\n",
    "resistencias = pd.Series(resistencias)\n",
    "n = len(resistencias)\n",
    "\n",
    "xbarra = np.mean(resistencias)\n",
    "dp = np.std(resistencias,ddof=1)\n",
    "\n",
    "print(\"Média: \", xbarra)\n",
    "print(\"Desvio padrão amostral: \", dp)\n",
    "\n",
    "xbarra_Boot = []\n",
    "\n",
    "B = 10000\n",
    "for i in range(B):\n",
    "    amostra = np.random.choice(resistencias, size=n, replace=True)\n",
    "    xbarraB = np.mean(amostra)\n",
    "    xbarra_Boot.append(xbarraB)\n",
    "    \n",
    "Lim_inf = np.percentile(xbarra_Boot, 2.5)\n",
    "Lim_sup = np.percentile(xbarra_Boot, 97.5)\n",
    "print('Limite inferior:', Lim_inf)\n",
    "print('Limite superior:', Lim_sup)\n",
    "\n"
   ]
  },
  {
   "cell_type": "markdown",
   "metadata": {},
   "source": [
    "b)"
   ]
  },
  {
   "cell_type": "code",
   "execution_count": 5,
   "metadata": {
    "collapsed": false
   },
   "outputs": [
    {
     "name": "stdout",
     "output_type": "stream",
     "text": [
      "Limite inferior: 59.0432758637\n",
      "Limite superior: 143.855582968\n"
     ]
    }
   ],
   "source": [
    "dp_Boot = []\n",
    "\n",
    "C = 10000\n",
    "for i in range(C):\n",
    "    amostra = np.random.choice(resistencias, size=n, replace=True)\n",
    "    dpB = np.std(amostra,ddof=1)\n",
    "    dp_Boot.append(dpB)\n",
    "    \n",
    "Lim_inf = np.percentile(dp_Boot, 2.5)\n",
    "Lim_sup = np.percentile(dp_Boot, 97.5)\n",
    "print('Limite inferior:', Lim_inf)\n",
    "print('Limite superior:', Lim_sup)"
   ]
  },
  {
   "cell_type": "markdown",
   "metadata": {},
   "source": [
    "c)\n",
    "\n",
    "Os valores alvos estão dentro dos limites calculados , por isso não há indícios que a produção está fora dos parâmetros com esses 95% de confiança."
   ]
  },
  {
   "cell_type": "code",
   "execution_count": null,
   "metadata": {
    "collapsed": true
   },
   "outputs": [],
   "source": []
  }
 ],
 "metadata": {
  "kernelspec": {
   "display_name": "Python [conda root]",
   "language": "python",
   "name": "conda-root-py"
  },
  "language_info": {
   "codemirror_mode": {
    "name": "ipython",
    "version": 3
   },
   "file_extension": ".py",
   "mimetype": "text/x-python",
   "name": "python",
   "nbconvert_exporter": "python",
   "pygments_lexer": "ipython3",
   "version": "3.5.2"
  }
 },
 "nbformat": 4,
 "nbformat_minor": 1
}
